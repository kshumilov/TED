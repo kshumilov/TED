{
 "cells": [
  {
   "cell_type": "code",
   "execution_count": 25,
   "metadata": {},
   "outputs": [],
   "source": [
    "import os\n",
    "from typing import List\n",
    "\n",
    "import pandas as pd\n",
    "from webvtt import WebVTT"
   ]
  },
  {
   "cell_type": "code",
   "execution_count": 26,
   "metadata": {},
   "outputs": [],
   "source": [
    "data_dir = './ted-talks-transcript'\n",
    "ted_data_file = os.path.join(data_dir, 'ted_metadata_kaggle.csv')\n",
    "captions_dir = os.path.join(data_dir, 'subtitles')\n",
    "available_captions = os.listdir(captions_dir)"
   ]
  },
  {
   "cell_type": "code",
   "execution_count": 27,
   "metadata": {},
   "outputs": [],
   "source": [
    "df = pd.read_csv(ted_data_file)"
   ]
  },
  {
   "cell_type": "code",
   "execution_count": 273,
   "metadata": {},
   "outputs": [],
   "source": [
    "tags = set()\n",
    "for t in df['tags']:\n",
    "    tags.update(eval(t))"
   ]
  },
  {
   "cell_type": "code",
   "execution_count": 275,
   "metadata": {},
   "outputs": [
    {
     "data": {
      "text/plain": [
       "416"
      ]
     },
     "execution_count": 275,
     "metadata": {},
     "output_type": "execute_result"
    }
   ],
   "source": [
    "len(tags)"
   ]
  },
  {
   "cell_type": "code",
   "execution_count": 29,
   "metadata": {},
   "outputs": [],
   "source": [
    "# Find videos with transctipt\n",
    "df_valid = df[df['vidID_youtube'].notnull()][['name', 'vidID_youtube']]"
   ]
  },
  {
   "cell_type": "code",
   "execution_count": 30,
   "metadata": {},
   "outputs": [],
   "source": [
    "def get_caption_filename(name: str, lang='en', file_format='vtt') -> str:\n",
    "    filename: str = f'{name}.{lang}.{file_format}'\n",
    "    path: str = os.path.join(captions_dir, name, filename)\n",
    "    return path"
   ]
  },
  {
   "cell_type": "code",
   "execution_count": 31,
   "metadata": {},
   "outputs": [],
   "source": [
    "def get_caption_file(name: str, lang='en', file_format='vtt') -> WebVTT:\n",
    "    \"\"\"Searches for caption file with a given name and return VTT instance\"\"\"\n",
    "    path: str = get_caption_filename(name, lang=lang, file_format=file_format);\n",
    "\n",
    "    if os.path.exists(path):\n",
    "        return WebVTT().read(path)\n",
    "    return None"
   ]
  },
  {
   "cell_type": "code",
   "execution_count": 32,
   "metadata": {},
   "outputs": [],
   "source": [
    "def get_text(caption_file: WebVTT) -> str:\n",
    "    if caption_file is None:\n",
    "        return ''\n",
    "    \n",
    "    caption_list = map(lambda c: c.text, caption_file.captions)\n",
    "    \n",
    "    return ' '.join(caption_list)"
   ]
  },
  {
   "cell_type": "code",
   "execution_count": 33,
   "metadata": {},
   "outputs": [],
   "source": [
    "def save_text(name: str) -> None:\n",
    "    caption_file = get_caption_file(name)\n",
    "    \n",
    "    if caption_file is None:\n",
    "        return None\n",
    "    \n",
    "    caption_list = map(lambda c: c.text + ' ', caption_file.captions)\n",
    "    \n",
    "    filename = caption_file.file.split('.')\n",
    "    filename[-1] = 'txt'\n",
    "    filename = '.'.join(filename)\n",
    "    \n",
    "    with open(filename, 'w') as f:\n",
    "        f.writelines(caption_list)"
   ]
  },
  {
   "cell_type": "code",
   "execution_count": 34,
   "metadata": {},
   "outputs": [
    {
     "data": {
      "text/plain": [
       "name             0\n",
       "vidID_youtube    0\n",
       "filename         0\n",
       "exists           0\n",
       "dtype: int64"
      ]
     },
     "execution_count": 34,
     "metadata": {},
     "output_type": "execute_result"
    }
   ],
   "source": [
    "# Check that all documents are stored\n",
    "df_valid['filename'] = df_valid['vidID_youtube'].apply(get_caption_filename)\n",
    "df_valid['exists'] = df_valid['filename'].apply(os.path.exists)\n",
    "df_valid['filename'] = df_valid['vidID_youtube'].apply(get_caption_filename, file_format='txt')\n",
    "df_valid[df_valid['exists'] == False].count()"
   ]
  },
  {
   "cell_type": "code",
   "execution_count": 35,
   "metadata": {},
   "outputs": [],
   "source": [
    "for name in df_valid['vidID_youtube']:\n",
    "    save_text(name)"
   ]
  },
  {
   "cell_type": "code",
   "execution_count": 37,
   "metadata": {},
   "outputs": [],
   "source": [
    "from string import punctuation\n",
    "\n",
    "# Table to translate all punctuation into whitespace\n",
    "table = str.maketrans({key: ' ' for key in list(punctuation)})\n",
    "\n",
    "def preprocess(raw_text: str) -> str:\n",
    "    \"\"\"Remove all punctuation from the text\"\"\"\n",
    "    raw_text = raw_text.translate(table)\n",
    "    return raw_text.lower()"
   ]
  },
  {
   "cell_type": "code",
   "execution_count": 58,
   "metadata": {},
   "outputs": [],
   "source": [
    "from nltk import word_tokenize, pos_tag\n",
    "from nltk.stem import PorterStemmer, WordNetLemmatizer\n",
    "\n",
    "lemmatize = True\n",
    "stemmatize = False\n",
    "\n",
    "stemmer = PorterStemmer()\n",
    "lemmatizer = WordNetLemmatizer()\n",
    "\n",
    "def tokenize(raw_text: str) -> List[str]:\n",
    "    tokens = word_tokenize(raw_text)\n",
    "    \n",
    "    if lemmatize:\n",
    "        return [lemmatizer.lemmatize(w) for w in tokens]\n",
    "    return [stemmer.stem(w) for w in tokens]"
   ]
  },
  {
   "cell_type": "code",
   "execution_count": 372,
   "metadata": {},
   "outputs": [],
   "source": [
    "from nltk.corpus import stopwords\n",
    "from sklearn.feature_extraction.text import TfidfVectorizer\n",
    "\n",
    "STOP_WORDS = [stemmer.stem(w) for w in stopwords.words('english')] + [\n",
    "    're go', '—', 'yeah', 'okay', 'ok', 'oh', 'ye', 'bit', 'whole', 'ever', 'bit', 're', 'go', 'c', 'isn', 'per',\n",
    "    're look', 're talk', 're try', 'really want', 'say go', 'say know', 'say re', 'say well', 'th']\n",
    "\n",
    "\n",
    "vectorizer = TfidfVectorizer(\n",
    "    input='filename',\n",
    "    tokenizer=tokenize, \n",
    "    preprocessor=preprocess,\n",
    "    analyzer='word', \n",
    "    stop_words=STOP_WORDS, \n",
    "    lowercase=True, \n",
    "    ngram_range=(1, 1),\n",
    "    max_df=0.5,\n",
    "    min_df=0.1,\n",
    ")\n",
    "\n",
    "data = vectorizer.fit_transform(df_valid['filename'])"
   ]
  },
  {
   "cell_type": "code",
   "execution_count": 373,
   "metadata": {},
   "outputs": [],
   "source": [
    "import pickle\n",
    "# Dump data\n",
    "pickle.dump(data, open('Tf-Idf_data.pickle', 'wb'))\n",
    "pickle.dump(vectorizer, open('Tf-Idf_vectorizer.pickle', 'wb'))"
   ]
  },
  {
   "cell_type": "code",
   "execution_count": 401,
   "metadata": {},
   "outputs": [],
   "source": [
    "import pickle\n",
    "# Load data\n",
    "data = pickle.load(open('Tf-Idf_data.pickle', 'rb'))\n",
    "feature_names = pickle.load(open('Tf-Idf_feature_names.pickle', 'rb'))"
   ]
  },
  {
   "cell_type": "code",
   "execution_count": 402,
   "metadata": {},
   "outputs": [
    {
     "data": {
      "text/plain": [
       "(2210, 916)"
      ]
     },
     "execution_count": 402,
     "metadata": {},
     "output_type": "execute_result"
    }
   ],
   "source": [
    "data.shape"
   ]
  },
  {
   "cell_type": "code",
   "execution_count": 394,
   "metadata": {},
   "outputs": [],
   "source": [
    "N_clusters = 10\n",
    "N_components = 10"
   ]
  },
  {
   "cell_type": "code",
   "execution_count": 395,
   "metadata": {},
   "outputs": [],
   "source": [
    "from sklearn.pipeline import make_pipeline\n",
    "from sklearn.preprocessing import Normalizer\n",
    "from sklearn.decomposition import TruncatedSVD\n",
    "\n",
    "if N_components:\n",
    "    svd = TruncatedSVD(N_components)\n",
    "    normalizer = Normalizer(copy=False)\n",
    "    lsa = make_pipeline(svd, normalizer)\n",
    "    data = lsa.fit_transform(data)"
   ]
  },
  {
   "cell_type": "code",
   "execution_count": 396,
   "metadata": {},
   "outputs": [
    {
     "data": {
      "text/plain": [
       "KMeans(algorithm='auto', copy_x=True, init='k-means++', max_iter=300,\n",
       "    n_clusters=10, n_init=10, n_jobs=1, precompute_distances='auto',\n",
       "    random_state=None, tol=1e-05, verbose=0)"
      ]
     },
     "execution_count": 396,
     "metadata": {},
     "output_type": "execute_result"
    }
   ],
   "source": [
    "from sklearn.cluster import KMeans\n",
    "\n",
    "model = KMeans(n_clusters=N_clusters, tol=1e-5)\n",
    "model.fit(data)"
   ]
  },
  {
   "cell_type": "code",
   "execution_count": 397,
   "metadata": {},
   "outputs": [
    {
     "name": "stdout",
     "output_type": "stream",
     "text": [
      "Cluster 1: city building space street design community car project york public\n",
      "Cluster 2: woman men girl child boy story man country mother young\n",
      "Cluster 3: kid school child teacher student education family parent learning class\n",
      "Cluster 4: love story feel man went word friend woman guy god\n",
      "Cluster 5: patient cell cancer disease drug health doctor body medical medicine\n",
      "Cluster 6: design technology computer data machine video information system project object\n",
      "Cluster 7: brain cell body mind memory behavior pattern system animal study\n",
      "Cluster 8: country government company percent money dollar state global business market\n",
      "Cluster 9: music sound play hear piece voice playing eye note video\n",
      "Cluster 10: water earth planet ocean animal specie plant universe sea food\n"
     ]
    }
   ],
   "source": [
    "def show_clusters(model, vectorizer, svd=None):\n",
    "    terms = vectorizer.get_feature_names()\n",
    "    if svd is not None:\n",
    "        original_space_centroids = svd.inverse_transform(model.cluster_centers_)\n",
    "        order_centroids = original_space_centroids.argsort()[:, ::-1]\n",
    "    else:\n",
    "        order_centroids = model.cluster_centers_.argsort()[:, ::-1]\\\n",
    "\n",
    "    for i in range(model.n_clusters):\n",
    "        print(\"Cluster %d:\" % (i + 1), end='')\n",
    "        for ind in order_centroids[i, :10]:\n",
    "            print(' %s' % terms[ind], end='')\n",
    "        print()\n",
    "\n",
    "show_clusters(model, vectorizer, svd)"
   ]
  },
  {
   "cell_type": "code",
   "execution_count": 398,
   "metadata": {},
   "outputs": [
    {
     "name": "stdout",
     "output_type": "stream",
     "text": [
      "Average Silhouette Coefficient: 0.060\n"
     ]
    }
   ],
   "source": [
    "from sklearn.metrics import silhouette_score\n",
    "silhouette_avg = silhouette_score(data, model.labels_)\n",
    "print(\"Average Silhouette Coefficient: %0.3f\" % silhouette_avg)"
   ]
  },
  {
   "cell_type": "code",
   "execution_count": 399,
   "metadata": {},
   "outputs": [
    {
     "data": {
      "image/png": "[encoded data removed]",
      "text/plain": [
       "<Figure size 576x432 with 1 Axes>"
      ]
     },
     "metadata": {},
     "output_type": "display_data"
    }
   ],
   "source": [
    "import numpy as np\n",
    "import matplotlib.cm as cm\n",
    "import matplotlib.pyplot as plt\n",
    "from sklearn.metrics import silhouette_samples\n",
    "\n",
    "def silhouette_graph(model, data, legend=False, save=False):\n",
    "    plt.style.use('ggplot')\n",
    "    fig = plt.figure(N_clusters, figsize=(8, 6))\n",
    "    ax1 = plt.subplot(111)\n",
    "    ax1.axis([0, len(model.labels_) + (model.n_clusters + 1) * 25, -0.15, 1])\n",
    "\n",
    "    sample_silhouette_values = silhouette_samples(data, model.labels_)\n",
    "    silhouette_avg = silhouette_score(data, model.labels_)\n",
    "\n",
    "    x_left = 25\n",
    "    for i in range(model.n_clusters):\n",
    "        sample = sample_silhouette_values[model.labels_ == i]\n",
    "        sample.sort()\n",
    "        sample = sample[::-1]\n",
    "\n",
    "        cluster_size = sample.shape[0]\n",
    "        x_right = x_left + cluster_size\n",
    "        color = cm.nipy_spectral(float(i) / model.n_clusters)\n",
    "\n",
    "        ax1.fill_between(\n",
    "            np.arange(x_left, x_right), 0, sample, \n",
    "            facecolor=color, edgecolor=color, alpha=0.7, label='{}'.format(i)\n",
    "        )\n",
    "        x_left = x_right + 25\n",
    "\n",
    "    plt.title('Silhouette plot for {} clusters'.format(model.n_clusters))\n",
    "    ax1.set_xlabel(\"Texts ids\")\n",
    "    ax1.set_ylabel(\"Silhouette coefficient\")\n",
    "    ax1.axhline(y=silhouette_avg, color=\"red\", linestyle=\"--\")\n",
    "    ax1.set_yticks([-0.1, 0, 0.2, 0.4, 0.6, 0.8, 1])\n",
    "    ax1.set_xticks([])\n",
    "    \n",
    "    if legend:\n",
    "        box = ax1.get_position()\n",
    "        ax1.set_position([box.x0, box.y0, box.width * 0.9, box.height])\n",
    "        ax1.legend(loc='center left', fancybox=True, shadow=True, bbox_to_anchor=(1, 0.5), ncol=2)\n",
    "    if save:\n",
    "        plt.savefig('Silhouette plot for {} clusters.png'.format(model.n_clusters), dpi=1000)\n",
    "    plt.show()\n",
    "\n",
    "silhouette_graph(model, data, legend=True, save=True)"
   ]
  },
  {
   "cell_type": "code",
   "execution_count": 137,
   "metadata": {},
   "outputs": [],
   "source": [
    "def silhouette_metric(estimator, X):\n",
    "    clusters = estimator.fit_predict(X)\n",
    "    score = silhouette_score(X, clusters)\n",
    "    return score"
   ]
  },
  {
   "cell_type": "code",
   "execution_count": 244,
   "metadata": {},
   "outputs": [
    {
     "name": "stdout",
     "output_type": "stream",
     "text": [
      "Doing clusters: 15, components:100\n",
      "Doing clusters: 15, components:200\n",
      "Doing clusters: 15, components:300\n",
      "Doing clusters: 15, components:400\n",
      "Doing clusters: 15, components:500\n",
      "Doing clusters: 16, components:100\n",
      "Doing clusters: 16, components:200\n",
      "Doing clusters: 16, components:300\n",
      "Doing clusters: 16, components:400\n",
      "Doing clusters: 16, components:500\n",
      "Doing clusters: 17, components:100\n",
      "Doing clusters: 17, components:200\n",
      "Doing clusters: 17, components:300\n",
      "Doing clusters: 17, components:400\n",
      "Doing clusters: 17, components:500\n",
      "Doing clusters: 18, components:100\n",
      "Doing clusters: 18, components:200\n",
      "Doing clusters: 18, components:300\n",
      "Doing clusters: 18, components:400\n",
      "Doing clusters: 18, components:500\n",
      "Doing clusters: 19, components:100\n",
      "Doing clusters: 19, components:200\n",
      "Doing clusters: 19, components:300\n",
      "Doing clusters: 19, components:400\n",
      "Doing clusters: 19, components:500\n",
      "Doing clusters: 20, components:100\n",
      "Doing clusters: 20, components:200\n",
      "Doing clusters: 20, components:300\n",
      "Doing clusters: 20, components:400\n",
      "Doing clusters: 20, components:500\n",
      "Doing clusters: 21, components:100\n",
      "Doing clusters: 21, components:200\n",
      "Doing clusters: 21, components:300\n",
      "Doing clusters: 21, components:400\n",
      "Doing clusters: 21, components:500\n",
      "Doing clusters: 22, components:100\n",
      "Doing clusters: 22, components:200\n",
      "Doing clusters: 22, components:300\n",
      "Doing clusters: 22, components:400\n",
      "Doing clusters: 22, components:500\n",
      "Doing clusters: 23, components:100\n",
      "Doing clusters: 23, components:200\n",
      "Doing clusters: 23, components:300\n",
      "Doing clusters: 23, components:400\n",
      "Doing clusters: 23, components:500\n",
      "Doing clusters: 24, components:100\n",
      "Doing clusters: 24, components:200\n",
      "Doing clusters: 24, components:300\n",
      "Doing clusters: 24, components:400\n",
      "Doing clusters: 24, components:500\n",
      "Doing clusters: 25, components:100\n",
      "Doing clusters: 25, components:200\n",
      "Doing clusters: 25, components:300\n",
      "Doing clusters: 25, components:400\n",
      "Doing clusters: 25, components:500\n",
      "Doing clusters: 26, components:100\n",
      "Doing clusters: 26, components:200\n",
      "Doing clusters: 26, components:300\n",
      "Doing clusters: 26, components:400\n",
      "Doing clusters: 26, components:500\n",
      "Doing clusters: 27, components:100\n",
      "Doing clusters: 27, components:200\n",
      "Doing clusters: 27, components:300\n",
      "Doing clusters: 27, components:400\n",
      "Doing clusters: 27, components:500\n",
      "Doing clusters: 28, components:100\n",
      "Doing clusters: 28, components:200\n",
      "Doing clusters: 28, components:300\n",
      "Doing clusters: 28, components:400\n",
      "Doing clusters: 28, components:500\n",
      "Doing clusters: 29, components:100\n",
      "Doing clusters: 29, components:200\n",
      "Doing clusters: 29, components:300\n",
      "Doing clusters: 29, components:400\n",
      "Doing clusters: 29, components:500\n",
      "Doing clusters: 30, components:100\n",
      "Doing clusters: 30, components:200\n",
      "Doing clusters: 30, components:300\n",
      "Doing clusters: 30, components:400\n",
      "Doing clusters: 30, components:500\n"
     ]
    }
   ],
   "source": [
    "from sklearn.model_selection import ParameterGrid\n",
    "kmeans_params = ParameterGrid({'n_clusters': range(15, 31)})\n",
    "svd_params = ParameterGrid({'n_components': range(100, 600, 100)})\n",
    "\n",
    "result = [[[] for i in range(100, 600, 100)] for i in range(15, 31)]\n",
    "i = 0\n",
    "for k in range(15, 31):\n",
    "    j=0\n",
    "    model = KMeans(verbose=0, tol=1e-5).set_params(**k)\n",
    "    for s in svd_params:\n",
    "        svd = TruncatedSVD().set_params(**s)\n",
    "        lsa = make_pipeline(svd, Normalizer(copy=False))\n",
    "        X = lsa.fit_transform(data)\n",
    "        \n",
    "        model.fit(X)        \n",
    "        result[i][j] = silhouette_score(X, model.labels_)\n",
    "\n",
    "        j += 1\n",
    "    i += 1"
   ]
  },
  {
   "cell_type": "code",
   "execution_count": 332,
   "metadata": {},
   "outputs": [],
   "source": [
    "result1 = np.array(result)"
   ]
  },
  {
   "cell_type": "code",
   "execution_count": 431,
   "metadata": {},
   "outputs": [],
   "source": [
    "X = np.arange(15, 31)"
   ]
  },
  {
   "cell_type": "code",
   "execution_count": 435,
   "metadata": {},
   "outputs": [
    {
     "data": {
      "image/png": "[encoded data removed]",
      "text/plain": [
       "<Figure size 432x288 with 1 Axes>"
      ]
     },
     "metadata": {},
     "output_type": "display_data"
    }
   ],
   "source": [
    "fig = plt.figure(5)\n",
    "ax = plt.subplot(111)\n",
    "for i in range(0, 5):\n",
    "    color = cm.nipy_spectral(float(i) / 5)\n",
    "    Y = result[:, i]\n",
    "    ax.scatter(X, Y, c=color, label=f'{(i + 1) * 100} comp')\n",
    "ax.set_xlabel('Number of clusters')\n",
    "ax.set_ylabel('Average silhouette coefficient')\n",
    "ax1.set_position([box.x0, box.y0, box.width * 0.9, box.height])\n",
    "ax.legend(loc='center left', fancybox=True, shadow=True, bbox_to_anchor=(1, 0.5))\n",
    "plt.savefig('Nclusters vs nComp vs avg sil.png')\n",
    "plt.show()"
   ]
  },
  {
   "cell_type": "code",
   "execution_count": 308,
   "metadata": {},
   "outputs": [
    {
     "name": "stdout",
     "output_type": "stream",
     "text": [
      "Working on 15 clusters\n",
      "Working on 16 clusters\n",
      "Working on 17 clusters\n",
      "Working on 18 clusters\n",
      "Working on 19 clusters\n",
      "Working on 20 clusters\n",
      "Working on 21 clusters\n",
      "Working on 22 clusters\n",
      "Working on 23 clusters\n",
      "Working on 24 clusters\n",
      "Working on 25 clusters\n",
      "Working on 26 clusters\n",
      "Working on 27 clusters\n",
      "Working on 28 clusters\n",
      "Working on 29 clusters\n",
      "Working on 30 clusters\n",
      "Working on 31 clusters\n",
      "Working on 32 clusters\n",
      "Working on 33 clusters\n",
      "Working on 34 clusters\n",
      "Working on 35 clusters\n",
      "Working on 36 clusters\n",
      "Working on 37 clusters\n",
      "Working on 38 clusters\n",
      "Working on 39 clusters\n",
      "Working on 40 clusters\n",
      "Working on 41 clusters\n",
      "Working on 42 clusters\n",
      "Working on 43 clusters\n",
      "Working on 44 clusters\n",
      "Working on 45 clusters\n",
      "Working on 46 clusters\n",
      "Working on 47 clusters\n",
      "Working on 48 clusters\n",
      "Working on 49 clusters\n",
      "Working on 50 clusters\n",
      "Working on 51 clusters\n",
      "Working on 52 clusters\n",
      "Working on 53 clusters\n",
      "Working on 54 clusters\n",
      "Working on 55 clusters\n",
      "Working on 56 clusters\n",
      "Working on 57 clusters\n",
      "Working on 58 clusters\n",
      "Working on 59 clusters\n",
      "Working on 60 clusters\n",
      "Working on 61 clusters\n",
      "Working on 62 clusters\n",
      "Working on 63 clusters\n",
      "Working on 64 clusters\n",
      "Working on 65 clusters\n",
      "Working on 66 clusters\n",
      "Working on 67 clusters\n",
      "Working on 68 clusters\n",
      "Working on 69 clusters\n",
      "Working on 70 clusters\n",
      "Working on 71 clusters\n",
      "Working on 72 clusters\n",
      "Working on 73 clusters\n",
      "Working on 74 clusters\n",
      "Working on 75 clusters\n",
      "Working on 76 clusters\n",
      "Working on 77 clusters\n",
      "Working on 78 clusters\n",
      "Working on 79 clusters\n",
      "Working on 80 clusters\n",
      "Working on 81 clusters\n",
      "Working on 82 clusters\n",
      "Working on 83 clusters\n",
      "Working on 84 clusters\n",
      "Working on 85 clusters\n",
      "Working on 86 clusters\n",
      "Working on 87 clusters\n",
      "Working on 88 clusters\n",
      "Working on 89 clusters\n",
      "Working on 90 clusters\n",
      "Working on 91 clusters\n",
      "Working on 92 clusters\n",
      "Working on 93 clusters\n",
      "Working on 94 clusters\n",
      "Working on 95 clusters\n",
      "Working on 96 clusters\n",
      "Working on 97 clusters\n",
      "Working on 98 clusters\n",
      "Working on 99 clusters\n",
      "Working on 100 clusters\n",
      "Working on 101 clusters\n",
      "Working on 102 clusters\n",
      "Working on 103 clusters\n",
      "Working on 104 clusters\n",
      "Working on 105 clusters\n",
      "Working on 106 clusters\n",
      "Working on 107 clusters\n",
      "Working on 108 clusters\n",
      "Working on 109 clusters\n",
      "Working on 110 clusters\n",
      "Working on 111 clusters\n",
      "Working on 112 clusters\n",
      "Working on 113 clusters\n",
      "Working on 114 clusters\n",
      "Working on 115 clusters\n",
      "Working on 116 clusters\n",
      "Working on 117 clusters\n",
      "Working on 118 clusters\n",
      "Working on 119 clusters\n",
      "Working on 120 clusters\n",
      "Working on 121 clusters\n",
      "Working on 122 clusters\n",
      "Working on 123 clusters\n",
      "Working on 124 clusters\n",
      "Working on 125 clusters\n",
      "Working on 126 clusters\n",
      "Working on 127 clusters\n",
      "Working on 128 clusters\n",
      "Working on 129 clusters\n",
      "Working on 130 clusters\n",
      "Working on 131 clusters\n",
      "Working on 132 clusters\n",
      "Working on 133 clusters\n",
      "Working on 134 clusters\n",
      "Working on 135 clusters\n",
      "Working on 136 clusters\n",
      "Working on 137 clusters\n",
      "Working on 138 clusters\n",
      "Working on 139 clusters\n",
      "Working on 140 clusters\n",
      "Working on 141 clusters\n",
      "Working on 142 clusters\n",
      "Working on 143 clusters\n",
      "Working on 144 clusters\n",
      "Working on 145 clusters\n",
      "Working on 146 clusters\n",
      "Working on 147 clusters\n",
      "Working on 148 clusters\n",
      "Working on 149 clusters\n",
      "Working on 150 clusters\n",
      "Working on 151 clusters\n",
      "Working on 152 clusters\n",
      "Working on 153 clusters\n",
      "Working on 154 clusters\n",
      "Working on 155 clusters\n",
      "Working on 156 clusters\n",
      "Working on 157 clusters\n",
      "Working on 158 clusters\n",
      "Working on 159 clusters\n",
      "Working on 160 clusters\n",
      "Working on 161 clusters\n",
      "Working on 162 clusters\n",
      "Working on 163 clusters\n",
      "Working on 164 clusters\n",
      "Working on 165 clusters\n",
      "Working on 166 clusters\n",
      "Working on 167 clusters\n",
      "Working on 168 clusters\n",
      "Working on 169 clusters\n",
      "Working on 170 clusters\n",
      "Working on 171 clusters\n",
      "Working on 172 clusters\n",
      "Working on 173 clusters\n",
      "Working on 174 clusters\n",
      "Working on 175 clusters\n",
      "Working on 176 clusters\n",
      "Working on 177 clusters\n",
      "Working on 178 clusters\n",
      "Working on 179 clusters\n",
      "Working on 180 clusters\n",
      "Working on 181 clusters\n",
      "Working on 182 clusters\n",
      "Working on 183 clusters\n",
      "Working on 184 clusters\n",
      "Working on 185 clusters\n",
      "Working on 186 clusters\n",
      "Working on 187 clusters\n",
      "Working on 188 clusters\n",
      "Working on 189 clusters\n",
      "Working on 190 clusters\n",
      "Working on 191 clusters\n",
      "Working on 192 clusters\n",
      "Working on 193 clusters\n",
      "Working on 194 clusters\n",
      "Working on 195 clusters\n",
      "Working on 196 clusters\n",
      "Working on 197 clusters\n",
      "Working on 198 clusters\n",
      "Working on 199 clusters\n"
     ]
    }
   ],
   "source": [
    "lsa = make_pipeline(TruncatedSVD(100), Normalizer(copy=False))\n",
    "\n",
    "Result = [0 for i in range(2, 200)]\n",
    "i = 0\n",
    "for k in range(15, 200):\n",
    "    print(f\"Working on {k} clusters\")\n",
    "    model = KMeans(n_clusters=k, verbose=0)\n",
    "    X = lsa.fit_transform(data)\n",
    "    model.fit(X)        \n",
    "    Result[i] = silhouette_score(X, model.labels_)\n",
    "    i += 1"
   ]
  },
  {
   "cell_type": "code",
   "execution_count": 342,
   "metadata": {},
   "outputs": [],
   "source": [
    "avgs = np.array(Result)\n",
    "X = np.arange(15, 200)"
   ]
  },
  {
   "cell_type": "code",
   "execution_count": 365,
   "metadata": {},
   "outputs": [
    {
     "data": {
      "image/png": "[encoded data removed]",
      "text/plain": [
       "<Figure size 432x288 with 1 Axes>"
      ]
     },
     "metadata": {},
     "output_type": "display_data"
    }
   ],
   "source": [
    "plt.scatter(X, avgs)\n",
    "plt.xlabel('Number of clusters')\n",
    "plt.ylabel('Average silhouette coefficient')\n",
    "plt.savefig('Nclusters vs avg sil.png', dpi=1000)\n",
    "plt.show()"
   ]
  },
  {
   "cell_type": "code",
   "execution_count": 424,
   "metadata": {},
   "outputs": [
    {
     "name": "stdout",
     "output_type": "stream",
     "text": [
      "Working on 100 components\n",
      "Working on 150 components\n",
      "Working on 200 components\n",
      "Working on 250 components\n",
      "Working on 300 components\n",
      "Working on 350 components\n",
      "Working on 400 components\n",
      "Working on 450 components\n",
      "Working on 500 components\n"
     ]
    }
   ],
   "source": [
    "Result_comp = [0 for i in range(100, 550, 50)]\n",
    "i = 0\n",
    "for k in range(100, 550, 50):\n",
    "    print(f\"Working on {k} components\")\n",
    "    lsa = make_pipeline(TruncatedSVD(k), Normalizer(copy=False))\n",
    "    X = lsa.fit_transform(data)\n",
    "    model = KMeans(n_clusters=10, verbose=0)\n",
    "    model.fit(X)        \n",
    "    Result_comp[i] = silhouette_score(X, model.labels_)\n",
    "    i += 1"
   ]
  },
  {
   "cell_type": "code",
   "execution_count": 425,
   "metadata": {},
   "outputs": [],
   "source": [
    "comps = np.array(Result_comp)"
   ]
  },
  {
   "cell_type": "code",
   "execution_count": 429,
   "metadata": {},
   "outputs": [
    {
     "data": {
      "image/png": "[encoded data removed]",
      "text/plain": [
       "<Figure size 432x288 with 1 Axes>"
      ]
     },
     "metadata": {},
     "output_type": "display_data"
    }
   ],
   "source": [
    "plt.scatter(np.arange(100, 550, 50), comps)\n",
    "plt.xlabel('Number of components')\n",
    "plt.ylabel('Average silhouette coefficient')\n",
    "plt.savefig('Ncomponents vs avg sil.png', dpi=1000)\n",
    "plt.show()"
   ]
  },
  {
   "cell_type": "code",
   "execution_count": null,
   "metadata": {},
   "outputs": [],
   "source": []
  }
 ],
 "metadata": {
  "kernelspec": {
   "display_name": "Python 3",
   "language": "python",
   "name": "python3"
  },
  "language_info": {
   "codemirror_mode": {
    "name": "ipython",
    "version": 3
   },
   "file_extension": ".py",
   "mimetype": "text/x-python",
   "name": "python",
   "nbconvert_exporter": "python",
   "pygments_lexer": "ipython3",
   "version": "3.6.4"
  }
 },
 "nbformat": 4,
 "nbformat_minor": 2
}
